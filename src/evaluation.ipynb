{
 "cells": [
  {
   "cell_type": "code",
   "execution_count": 1,
   "metadata": {},
   "outputs": [],
   "source": [
    "import numpy as np\n",
    "import pandas as pd\n",
    "import os\n",
    "import glob\n",
    "from helper import get_data_splits, id_key, get_model"
   ]
  },
  {
   "cell_type": "code",
   "execution_count": 2,
   "metadata": {},
   "outputs": [],
   "source": [
    "# Below identifiers correspond to evaluation protocol 1, 2 and 3 respectively\n",
    "# identifiers - \"TouchPose_crossSession\", \"TouchPose_crossSubjects\", \"TouchPose_crossGestures\"\n",
    "identifier = \"TouchPose_crossGestures\"\n",
    "data_path = \"../data/\"\n",
    "model_path = \"../models/\""
   ]
  },
  {
   "cell_type": "code",
   "execution_count": 3,
   "metadata": {},
   "outputs": [],
   "source": [
    "files = glob.glob(data_path+'*.pkl')\n",
    "df = pd.concat([pd.read_pickle(fp) for fp in files], ignore_index=True)"
   ]
  },
  {
   "cell_type": "code",
   "execution_count": 4,
   "metadata": {},
   "outputs": [
    {
     "name": "stderr",
     "output_type": "stream",
     "text": [
      "/usr/local/anaconda3/envs/py3/lib/python3.7/site-packages/ipykernel_launcher.py:2: FutureWarning: Indexing with multiple keys (implicitly converted to a tuple of keys) will be deprecated, use a list instead.\n",
      "  \n"
     ]
    }
   ],
   "source": [
    "control = id_key[identifier]\n",
    "df_group = df.groupby([control])[\"cap_img\",\"depth_img\"]\n",
    "g_id = list(df_group.groups.keys())"
   ]
  },
  {
   "cell_type": "code",
   "execution_count": 5,
   "metadata": {},
   "outputs": [
    {
     "name": "stdout",
     "output_type": "stream",
     "text": [
      "WARNING:tensorflow:No training configuration found in the save file, so the model was *not* compiled. Compile it manually.\n",
      "Accuracy 65.0 30.418463475264414\n",
      "WARNING:tensorflow:No training configuration found in the save file, so the model was *not* compiled. Compile it manually.\n",
      "Accuracy 66.0 24.826761955218785\n",
      "WARNING:tensorflow:No training configuration found in the save file, so the model was *not* compiled. Compile it manually.\n",
      "Accuracy 67.0 21.052762648514722\n",
      "WARNING:tensorflow:No training configuration found in the save file, so the model was *not* compiled. Compile it manually.\n",
      "Accuracy 68.0 23.050934061623348\n",
      "WARNING:tensorflow:No training configuration found in the save file, so the model was *not* compiled. Compile it manually.\n",
      "Accuracy 69.0 25.860948980721368\n",
      "WARNING:tensorflow:No training configuration found in the save file, so the model was *not* compiled. Compile it manually.\n",
      "Accuracy 70.0 18.41753416478953\n",
      "WARNING:tensorflow:No training configuration found in the save file, so the model was *not* compiled. Compile it manually.\n",
      "Accuracy 71.0 16.926196823454315\n",
      "WARNING:tensorflow:No training configuration found in the save file, so the model was *not* compiled. Compile it manually.\n",
      "Accuracy 72.0 19.044581848936193\n",
      "WARNING:tensorflow:No training configuration found in the save file, so the model was *not* compiled. Compile it manually.\n",
      "Accuracy 73.0 14.32355895091892\n",
      "WARNING:tensorflow:No training configuration found in the save file, so the model was *not* compiled. Compile it manually.\n",
      "Accuracy 74.0 16.59890028697684\n",
      "WARNING:tensorflow:No training configuration found in the save file, so the model was *not* compiled. Compile it manually.\n",
      "Accuracy 75.0 26.522050507939174\n",
      "WARNING:tensorflow:No training configuration found in the save file, so the model was *not* compiled. Compile it manually.\n",
      "Accuracy 76.0 37.607740314526104\n",
      "WARNING:tensorflow:No training configuration found in the save file, so the model was *not* compiled. Compile it manually.\n",
      "Accuracy 77.0 35.52240715930311\n",
      "WARNING:tensorflow:No training configuration found in the save file, so the model was *not* compiled. Compile it manually.\n",
      "Accuracy 78.0 30.61358710123129\n",
      "WARNING:tensorflow:No training configuration found in the save file, so the model was *not* compiled. Compile it manually.\n",
      "Accuracy 79.0 33.17285629285531\n"
     ]
    }
   ],
   "source": [
    "depth_err = []\n",
    "for i in range(len(g_id)):\n",
    "    test_set = [g_id[i]]\n",
    "    X_test_cap, Y_test_depth= get_data_splits(df_group,test_set)\n",
    "    model = get_model(identifier, model_path, test_set)\n",
    "    Y_out_depth = model.predict(X_test_cap, batch_size=128)\n",
    "    depth_error = np.mean(abs(Y_test_depth - Y_out_depth[:,:,:,0])) * 255\n",
    "    depth_err.append(depth_error)\n",
    "    print(\"Accuracy\", g_id[i],depth_error)"
   ]
  },
  {
   "cell_type": "code",
   "execution_count": 6,
   "metadata": {},
   "outputs": [
    {
     "name": "stdout",
     "output_type": "stream",
     "text": [
      "TouchPose_crossGestures\n",
      "\t Depth Error 24.930618971484893 SD 7.0629837953320145\n"
     ]
    }
   ],
   "source": [
    "print(identifier)\n",
    "print(\"\\t Depth Error\",np.mean(depth_err),\"SD\",np.std(depth_err))"
   ]
  },
  {
   "cell_type": "code",
   "execution_count": null,
   "metadata": {},
   "outputs": [],
   "source": []
  }
 ],
 "metadata": {
  "kernelspec": {
   "display_name": "Python 3",
   "language": "python",
   "name": "python3"
  },
  "language_info": {
   "codemirror_mode": {
    "name": "ipython",
    "version": 3
   },
   "file_extension": ".py",
   "mimetype": "text/x-python",
   "name": "python",
   "nbconvert_exporter": "python",
   "pygments_lexer": "ipython3",
   "version": "3.7.10"
  }
 },
 "nbformat": 4,
 "nbformat_minor": 4
}
